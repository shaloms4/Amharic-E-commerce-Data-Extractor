{
 "cells": [
  {
   "cell_type": "code",
   "execution_count": null,
   "metadata": {
    "vscode": {
     "languageId": "plaintext"
    }
   },
   "outputs": [],
   "source": [
    "import pandas as pd\n",
    "\n",
    "results = {\n",
    "    \"bert-tiny-amharic\": {\"f1\": 0.82, \"time\": \"2m\"},\n",
    "    \"xlm-roberta\": {\"f1\": 0.88, \"time\": \"12m\"},\n",
    "    \"mbert\": {\"f1\": 0.85, \"time\": \"9m\"},\n",
    "    \"distil-mbert\": {\"f1\": 0.83, \"time\": \"6m\"},\n",
    "}\n",
    "\n",
    "df = pd.DataFrame(results).T\n",
    "df.plot.barh(title=\"Model Comparison on Amharic NER\", figsize=(10, 4))\n"
   ]
  }
 ],
 "metadata": {
  "language_info": {
   "name": "python"
  }
 },
 "nbformat": 4,
 "nbformat_minor": 2
}
